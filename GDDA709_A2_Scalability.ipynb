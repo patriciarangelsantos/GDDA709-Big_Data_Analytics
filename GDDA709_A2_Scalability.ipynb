{
  "nbformat": 4,
  "nbformat_minor": 0,
  "metadata": {
    "colab": {
      "provenance": []
    },
    "kernelspec": {
      "name": "python3",
      "display_name": "Python 3"
    },
    "language_info": {
      "name": "python"
    }
  },
  "cells": [
    {
      "cell_type": "code",
      "source": [
        "from pyspark.sql import SparkSession\n",
        "from pyspark.sql.functions import rand\n",
        "import time"
      ],
      "metadata": {
        "id": "BUnRlXRErjkI"
      },
      "execution_count": 4,
      "outputs": []
    },
    {
      "cell_type": "code",
      "source": [
        "# Criar sessão Spark\n",
        "spark = SparkSession.builder \\\n",
        "    .appName(\"BigData Scalability Test\") \\\n",
        "    .config(\"spark.executor.memory\", \"4g\") \\\n",
        "    .config(\"spark.executor.cores\", \"4\") \\\n",
        "    .getOrCreate()"
      ],
      "metadata": {
        "id": "GQKaaaMvsBQn"
      },
      "execution_count": 5,
      "outputs": []
    },
    {
      "cell_type": "code",
      "execution_count": 6,
      "metadata": {
        "colab": {
          "base_uri": "https://localhost:8080/"
        },
        "id": "k6ohK8QcrZsL",
        "outputId": "ebe14728-b8d6-48d1-d462-f1de2d7cee19"
      },
      "outputs": [
        {
          "output_type": "stream",
          "name": "stdout",
          "text": [
            "🚀 Starting data generation...\n",
            "✅ Data generated in 6.63 seconds.\n",
            "📊 Running count operation...\n",
            "✅ Count completed in 230.37 seconds. Total: 100000000\n",
            "📈 Running aggregation...\n",
            "✅ Aggregation completed in 5.98 seconds.\n",
            "🔍 Running filter operation...\n",
            "✅ Filtering completed in 8.55 seconds. Total filtered: 49990854\n",
            "🏁 Scalability test completed!\n"
          ]
        }
      ],
      "source": [
        "# Generate a large DataFrame with 100 million records\n",
        "num_rows = 100_000_000\n",
        "num_partitions = 10  # Adjust this value to test scalability\n",
        "\n",
        "print(\"🚀 Starting data generation...\")\n",
        "start_time = time.time()\n",
        "df = spark.range(num_rows).withColumn(\"random_value\", rand())  # Add a random column\n",
        "df = df.repartition(num_partitions)  # Control parallelism by setting the number of partitions\n",
        "df.cache()  # Cache the DataFrame in memory to optimize performance\n",
        "print(f\"✅ Data generated in {time.time() - start_time:.2f} seconds.\")\n",
        "\n",
        "# Perform a simple count operation\n",
        "print(\"📊 Running count operation...\")\n",
        "start_time = time.time()\n",
        "count = df.count()\n",
        "print(f\"✅ Count completed in {time.time() - start_time:.2f} seconds. Total: {count}\")\n",
        "\n",
        "# Perform an aggregation operation\n",
        "print(\"📈 Running aggregation...\")\n",
        "start_time = time.time()\n",
        "agg_result = df.groupBy().sum(\"random_value\").collect()  # Summing all random values\n",
        "print(f\"✅ Aggregation completed in {time.time() - start_time:.2f} seconds.\")\n",
        "\n",
        "# Perform a filtering operation\n",
        "print(\"🔍 Running filter operation...\")\n",
        "start_time = time.time()\n",
        "filtered_df = df.filter(df.random_value > 0.5)  # Filter rows where random_value > 0.5\n",
        "filtered_count = filtered_df.count()\n",
        "print(f\"✅ Filtering completed in {time.time() - start_time:.2f} seconds. Total filtered: {filtered_count}\")\n",
        "\n",
        "# Stop the Spark session\n",
        "spark.stop()\n",
        "print(\"🏁 Scalability test completed!\")\n"
      ]
    }
  ]
}